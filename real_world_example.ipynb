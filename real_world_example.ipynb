{
 "cells": [
  {
   "cell_type": "code",
   "execution_count": null,
   "id": "992c8f9d",
   "metadata": {},
   "outputs": [],
   "source": [
    "!wget http://timeseriesclassification.com/Downloads/EigenWorms.zip\n",
    "!unzip -f EigenWorms.zip"
   ]
  },
  {
   "cell_type": "code",
   "execution_count": null,
   "id": "cacae5ae",
   "metadata": {},
   "outputs": [],
   "source": [
    "from isstorch import compute\n",
    "from utils import compute_signatures\n",
    "\n",
    "from sktime.utils.data_io import load_from_tsfile_to_dataframe\n",
    "from sktime.datatypes._panel._convert import from_nested_to_3d_numpy\n",
    "\n",
    "import torch\n",
    "import torch.nn as nn\n",
    "from torch.optim import Adam\n",
    "from torch.utils.data import DataLoader, TensorDataset\n",
    "\n",
    "from tqdm import trange"
   ]
  },
  {
   "cell_type": "code",
   "execution_count": null,
   "id": "e8e38e5f",
   "metadata": {},
   "outputs": [],
   "source": [
    "class DenseNet(nn.Module):\n",
    "    def __init__(self, in_features, width=10, hidden_layers=10):\n",
    "        super().__init__()\n",
    "        self.batchnorm = nn.BatchNorm1d(in_features)\n",
    "        layers = [\n",
    "            nn.Sequential(\n",
    "                nn.Linear(in_features, width),\n",
    "                nn.ReLU()\n",
    "            )\n",
    "        ]\n",
    "        for _ in range(hidden_layers-1):\n",
    "            layers.append(\n",
    "                nn.Sequential(\n",
    "                    nn.Linear(width, width),\n",
    "                    nn.ReLU()\n",
    "                )\n",
    "            )\n",
    "        \n",
    "        layers.append(\n",
    "            nn.Sequential(\n",
    "                nn.Linear(width, 5),\n",
    "                nn.Tanh()\n",
    "            )\n",
    "        )\n",
    "        \n",
    "        self.stack = nn.Sequential(*layers)\n",
    "    \n",
    "    def forward(self, x):\n",
    "        x = self.batchnorm(x)\n",
    "        return self.stack(x)\n",
    "    \n",
    "def train_loop(model, optimizer, loss_fn, dataloader, device):\n",
    "    for X, y in dataloader:\n",
    "        X, y = X.to(device), y.to(device)\n",
    "        pred = model(X)\n",
    "        loss = loss_fn(pred, y)\n",
    "        \n",
    "        optimizer.zero_grad()\n",
    "        loss.backward()\n",
    "        optimizer.step()\n",
    "        \n",
    "def test_loop(model, loss_fn, dataloader, device):\n",
    "    loss, correct = 0.0, 0\n",
    "    sample_size = len(dataloader.dataset)\n",
    "    for X, y in dataloader:\n",
    "        X, y = X.to(device), y.to(device)\n",
    "        pred = model(X)\n",
    "        \n",
    "        loss += loss_fn(pred, y)\n",
    "        correct += (pred.argmax(1) == y).type(torch.float).sum().item()\n",
    "    \n",
    "    return correct / sample_size, loss / sample_size"
   ]
  },
  {
   "cell_type": "code",
   "execution_count": null,
   "id": "93058946",
   "metadata": {},
   "outputs": [],
   "source": [
    "train_data, train_labels = load_from_tsfile_to_dataframe('EigenWorms_TRAIN.ts')\n",
    "train_data = from_nested_to_3d_numpy(train_data).transpose((0,2,1))\n",
    "train_labels = train_labels.astype(int) - 1\n",
    "\n",
    "test_data, test_labels = load_from_tsfile_to_dataframe('EigenWorms_TEST.ts')\n",
    "test_data = from_nested_to_3d_numpy(test_data).transpose((0,2,1))\n",
    "test_labels = test_labels.astype(int) - 1\n",
    "\n",
    "print(train_data.shape, test_data.shape)"
   ]
  },
  {
   "cell_type": "code",
   "execution_count": null,
   "id": "701e77ac",
   "metadata": {},
   "outputs": [],
   "source": [
    "device = torch.device('cuda') if torch.cuda.is_available() else torch.device('cpu')\n",
    "train_tensors, train_labels = torch.tensor(train_data, device=device, dtype=torch.float), torch.tensor(train_labels).long()\n",
    "test_tensors, test_labels = torch.tensor(test_data, device=device, dtype=torch.float), torch.tensor(test_labels).long()\n",
    "print(f\"Data loaded onto device {train_tensors.device}\")"
   ]
  },
  {
   "cell_type": "code",
   "execution_count": null,
   "id": "dae56f77",
   "metadata": {},
   "outputs": [],
   "source": [
    "%%time\n",
    "train_sigs = compute_signatures(train_tensors, level=3)\n",
    "test_sigs = compute_signatures(test_tensors, level=3)\n",
    "\n",
    "print(train_sigs.shape, test_sigs.shape)\n",
    "in_features = train_sigs.shape[1]"
   ]
  },
  {
   "cell_type": "code",
   "execution_count": null,
   "id": "6ab81229",
   "metadata": {},
   "outputs": [],
   "source": [
    "train_dataloader = DataLoader(TensorDataset(train_sigs, train_labels), batch_size=10, shuffle=True, drop_last=True)\n",
    "test_dataloader = DataLoader(TensorDataset(test_sigs, test_labels), batch_size=10, shuffle=True, drop_last=True)"
   ]
  },
  {
   "cell_type": "code",
   "execution_count": null,
   "id": "ca45ef7b",
   "metadata": {},
   "outputs": [],
   "source": [
    "model = DenseNet(in_features=in_features, width=100, hidden_layers=3).to(device)\n",
    "optimizer = Adam(model.parameters(), lr=1e-3)\n",
    "loss_fn = nn.CrossEntropyLoss()\n",
    "\n",
    "epochs = 200\n",
    "with trange(epochs) as pbar:\n",
    "    for t in pbar:\n",
    "        pbar.set_description(f\"Epoch {t+1}\")\n",
    "        train_loop(model, optimizer, loss_fn, train_dataloader, device)\n",
    "        acc, loss = test_loop(model, loss_fn, test_dataloader, device)\n",
    "        pbar.set_postfix(accuracy=f\"{acc:.2%}\", loss=f\"{loss:.3f}\")\n",
    "        "
   ]
  }
 ],
 "metadata": {
  "kernelspec": {
   "display_name": "Python 3 (ipykernel)",
   "language": "python",
   "name": "python3"
  },
  "language_info": {
   "codemirror_mode": {
    "name": "ipython",
    "version": 3
   },
   "file_extension": ".py",
   "mimetype": "text/x-python",
   "name": "python",
   "nbconvert_exporter": "python",
   "pygments_lexer": "ipython3",
   "version": "3.9.6"
  }
 },
 "nbformat": 4,
 "nbformat_minor": 5
}
